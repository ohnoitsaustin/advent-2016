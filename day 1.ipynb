{
 "cells": [
  {
   "cell_type": "markdown",
   "metadata": {},
   "source": [
    "The Document indicates that you should start at the given coordinates (where you just landed) and face North. Then, follow the provided sequence: either turn left (L) or right (R) 90 degrees, then walk forward the given number of blocks, ending at a new intersection.\n",
    "\n",
    "There's no time to follow such ridiculous instructions on foot, though, so you take a moment and work out the destination. Given that you can only walk on the street grid of the city, how far is the shortest path to the destination?\n",
    "\n",
    "For example:\n",
    "\n",
    "Following R2, L3 leaves you 2 blocks East and 3 blocks North, or 5 blocks away.\n",
    "R2, R2, R2 leaves you 2 blocks due South of your starting position, which is 2 blocks away.\n",
    "R5, L5, R5, R3 leaves you 12 blocks away.\n",
    "How many blocks away is Easter Bunny HQ?"
   ]
  },
  {
   "cell_type": "code",
   "execution_count": 42,
   "metadata": {
    "collapsed": false
   },
   "outputs": [
    {
     "data": {
      "text/plain": [
       "161"
      ]
     },
     "execution_count": 42,
     "metadata": {},
     "output_type": "execute_result"
    }
   ],
   "source": [
    "myLocation = (0, 0, 0)\n",
    "\n",
    "def calculateDirection(direction, turnDirection):\n",
    "    # turnDirection should be 0 (left) or 1 (right)\n",
    "    direction = direction + 1 if turnDirection else direction - 1\n",
    "    if(direction == -1):\n",
    "        direction = 3\n",
    "    if(direction == 4):\n",
    "        direction = 0\n",
    "    return direction\n",
    "\n",
    "def fwd(x, dis):\n",
    "    return x + dis\n",
    "\n",
    "def back(x, dis):\n",
    "    return x - dis\n",
    "\n",
    "def move(location, instruction):\n",
    "    (x, y, direction) = location\n",
    "    (turnDirection, distance) = instruction\n",
    "    \n",
    "    direction = calculateDirection(direction, turnDirection)\n",
    "\n",
    "    if(direction%2):\n",
    "        x = fwd(x, distance) if direction==1 else back(x, distance)\n",
    "    else:\n",
    "        y = fwd(y, distance) if direction==0 else back(y, distance)\n",
    "    \n",
    "    return (x, y, direction)\n",
    "    \n",
    "    \n",
    "def decode(string):\n",
    "    direction = 0 if string[:1]=='L' else 1\n",
    "    distance = int(string[1:])\n",
    "    return (direction, distance)\n",
    "    \n",
    "adventInput = \"R4, R1, L2, R1, L1, L1, R1, L5, R1, R5, L2, R3, L3, L4, R4, R4, R3, L5, L1, R5, R3, L4, R1, R5, L1, R3, L2, R3, R1, L4, L1, R1, L1, L5, R1, L2, R2, L3, L5, R1, R5, L1, R188, L3, R2, R52, R5, L3, R79, L1, R5, R186, R2, R1, L3, L5, L2, R2, R4, R5, R5, L5, L4, R5, R3, L4, R4, L4, L4, R5, L4, L3, L1, L4, R1, R2, L5, R3, L4, R3, L3, L5, R1, R1, L3, R2, R1, R2, R2, L4, R5, R1, R3, R2, L2, L2, L1, R2, L1, L3, R5, R1, R4, R5, R2, R2, R4, R4, R1, L3, R4, L2, R2, R1, R3, L5, R5, R2, R5, L1, R2, R4, L1, R5, L3, L3, R1, L4, R2, L2, R1, L1, R4, R3, L2, L3, R3, L2, R1, L4, R5, L1, R5, L2, L1, L5, L2, L5, L2, L4, L2, R3\"\n",
    "instructions = adventInput.split(\", \")\n",
    "log = []\n",
    "for instruction in instructions:\n",
    "    x,y,d = myLocation\n",
    "    log.append((x,y))\n",
    "    myLocation = move(myLocation, decode(instruction))\n",
    "    \n",
    "x, y, direction = myLocation\n",
    "distance = abs(x) + abs(y)\n",
    "distance"
   ]
  },
  {
   "cell_type": "code",
   "execution_count": null,
   "metadata": {
    "collapsed": true
   },
   "outputs": [],
   "source": []
  }
 ],
 "metadata": {
  "kernelspec": {
   "display_name": "Python 3",
   "language": "python",
   "name": "python3"
  },
  "language_info": {
   "codemirror_mode": {
    "name": "ipython",
    "version": 3
   },
   "file_extension": ".py",
   "mimetype": "text/x-python",
   "name": "python",
   "nbconvert_exporter": "python",
   "pygments_lexer": "ipython3",
   "version": "3.6.0"
  }
 },
 "nbformat": 4,
 "nbformat_minor": 2
}
