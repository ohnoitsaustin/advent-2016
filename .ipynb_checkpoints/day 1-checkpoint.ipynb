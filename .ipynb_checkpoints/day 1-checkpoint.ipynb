{
 "cells": [
  {
   "cell_type": "markdown",
   "metadata": {},
   "source": [
    "The Document indicates that you should start at the given coordinates (where you just landed) and face North. Then, follow the provided sequence: either turn left (L) or right (R) 90 degrees, then walk forward the given number of blocks, ending at a new intersection.\n",
    "\n",
    "There's no time to follow such ridiculous instructions on foot, though, so you take a moment and work out the destination. Given that you can only walk on the street grid of the city, how far is the shortest path to the destination?\n",
    "\n",
    "For example:\n",
    "\n",
    "Following R2, L3 leaves you 2 blocks East and 3 blocks North, or 5 blocks away.\n",
    "R2, R2, R2 leaves you 2 blocks due South of your starting position, which is 2 blocks away.\n",
    "R5, L5, R5, R3 leaves you 12 blocks away.\n",
    "How many blocks away is Easter Bunny HQ?"
   ]
  },
  {
   "cell_type": "code",
   "execution_count": 41,
   "metadata": {
    "collapsed": false
   },
   "outputs": [
    {
     "name": "stdout",
     "output_type": "stream",
     "text": [
      "(-50, -106)\n",
      "[(0, 0), (4, 0), (4, -1), (6, -1), (6, -2), (7, -2), (7, -1), (8, -1), (8, 4), (9, 4), (9, -1), (11, -1), (11, -4), (14, -4), (14, 0), (18, 0), (18, -4), (15, -4), (15, -9), (16, -9), (16, -14), (13, -14), (13, -18), (12, -18), (12, -13), (11, -13), (11, -10), (9, -10), (9, -7), (10, -7), (10, -3), (9, -3), (9, -2), (8, -2), (8, -7), (7, -7), (7, -9), (5, -9), (5, -12), (10, -12), (10, -13), (5, -13), (5, -14), (-183, -14), (-183, -17), (-185, -17), (-185, 35), (-180, 35), (-180, 38), (-101, 38), (-101, 39), (-96, 39), (-96, -147), (-98, -147), (-98, -146), (-101, -146), (-101, -151), (-99, -151), (-99, -153), (-103, -153), (-103, -148), (-98, -148), (-98, -143), (-102, -143), (-102, -138), (-99, -138), (-99, -134), (-95, -134), (-95, -130), (-99, -130), (-99, -125), (-103, -125), (-103, -128), (-102, -128), (-102, -124), (-101, -124), (-101, -126), (-96, -126), (-96, -129), (-92, -129), (-92, -132), (-89, -132), (-89, -127), (-88, -127), (-88, -128), (-85, -128), (-85, -130), (-86, -130), (-86, -128), (-84, -128), (-84, -124), (-79, -124), (-79, -125), (-82, -125), (-82, -123), (-84, -123), (-84, -125), (-83, -125), (-83, -127), (-82, -127), (-82, -124), (-77, -124), (-77, -125), (-81, -125), (-81, -120), (-79, -120), (-79, -122), (-83, -122), (-83, -118), (-82, -118), (-82, -115), (-78, -115), (-78, -113), (-76, -113), (-76, -114), (-79, -114), (-79, -119), (-84, -119), (-84, -117), (-79, -117), (-79, -116), (-77, -116), (-77, -120), (-76, -120), (-76, -125), (-73, -125), (-73, -122), (-72, -122), (-72, -118), (-70, -118), (-70, -116), (-69, -116), (-69, -115), (-65, -115), (-65, -118), (-63, -118), (-63, -115), (-60, -115), (-60, -113), (-59, -113), (-59, -109), (-54, -109), (-54, -108), (-49, -108), (-49, -106), (-50, -106), (-50, -111), (-48, -111), (-48, -106)]\n",
      "Counter({(-50, -106): 2, (0, 0): 1, (4, 0): 1, (4, -1): 1, (6, -1): 1, (6, -2): 1, (7, -2): 1, (7, -1): 1, (8, -1): 1, (8, 4): 1, (9, 4): 1, (9, -1): 1, (11, -1): 1, (11, -4): 1, (14, -4): 1, (14, 0): 1, (18, 0): 1, (18, -4): 1, (15, -4): 1, (15, -9): 1, (16, -9): 1, (16, -14): 1, (13, -14): 1, (13, -18): 1, (12, -18): 1, (12, -13): 1, (11, -13): 1, (11, -10): 1, (9, -10): 1, (9, -7): 1, (10, -7): 1, (10, -3): 1, (9, -3): 1, (9, -2): 1, (8, -2): 1, (8, -7): 1, (7, -7): 1, (7, -9): 1, (5, -9): 1, (5, -12): 1, (10, -12): 1, (10, -13): 1, (5, -13): 1, (5, -14): 1, (-183, -14): 1, (-183, -17): 1, (-185, -17): 1, (-185, 35): 1, (-180, 35): 1, (-180, 38): 1, (-101, 38): 1, (-101, 39): 1, (-96, 39): 1, (-96, -147): 1, (-98, -147): 1, (-98, -146): 1, (-101, -146): 1, (-101, -151): 1, (-99, -151): 1, (-99, -153): 1, (-103, -153): 1, (-103, -148): 1, (-98, -148): 1, (-98, -143): 1, (-102, -143): 1, (-102, -138): 1, (-99, -138): 1, (-99, -134): 1, (-95, -134): 1, (-95, -130): 1, (-99, -130): 1, (-99, -125): 1, (-103, -125): 1, (-103, -128): 1, (-102, -128): 1, (-102, -124): 1, (-101, -124): 1, (-101, -126): 1, (-96, -126): 1, (-96, -129): 1, (-92, -129): 1, (-92, -132): 1, (-89, -132): 1, (-89, -127): 1, (-88, -127): 1, (-88, -128): 1, (-85, -128): 1, (-85, -130): 1, (-86, -130): 1, (-86, -128): 1, (-84, -128): 1, (-84, -124): 1, (-79, -124): 1, (-79, -125): 1, (-82, -125): 1, (-82, -123): 1, (-84, -123): 1, (-84, -125): 1, (-83, -125): 1, (-83, -127): 1, (-82, -127): 1, (-82, -124): 1, (-77, -124): 1, (-77, -125): 1, (-81, -125): 1, (-81, -120): 1, (-79, -120): 1, (-79, -122): 1, (-83, -122): 1, (-83, -118): 1, (-82, -118): 1, (-82, -115): 1, (-78, -115): 1, (-78, -113): 1, (-76, -113): 1, (-76, -114): 1, (-79, -114): 1, (-79, -119): 1, (-84, -119): 1, (-84, -117): 1, (-79, -117): 1, (-79, -116): 1, (-77, -116): 1, (-77, -120): 1, (-76, -120): 1, (-76, -125): 1, (-73, -125): 1, (-73, -122): 1, (-72, -122): 1, (-72, -118): 1, (-70, -118): 1, (-70, -116): 1, (-69, -116): 1, (-69, -115): 1, (-65, -115): 1, (-65, -118): 1, (-63, -118): 1, (-63, -115): 1, (-60, -115): 1, (-60, -113): 1, (-59, -113): 1, (-59, -109): 1, (-54, -109): 1, (-54, -108): 1, (-49, -108): 1, (-49, -106): 1, (-50, -111): 1, (-48, -111): 1, (-48, -106): 1, (-50, -110): 1, (-48, -110): 1})\n"
     ]
    },
    {
     "data": {
      "text/plain": [
       "161"
      ]
     },
     "execution_count": 41,
     "metadata": {},
     "output_type": "execute_result"
    }
   ],
   "source": [
    "myLocation = (0, 0, 0)\n",
    "\n",
    "def calculateDirection(direction, turnDirection):\n",
    "    # turnDirection should be 0 (left) or 1 (right)\n",
    "    direction = direction + 1 if turnDirection else direction - 1\n",
    "    if(direction == -1):\n",
    "        direction = 3\n",
    "    if(direction == 4):\n",
    "        direction = 0\n",
    "    return direction\n",
    "\n",
    "def fwd(x, dis):\n",
    "    return x + dis\n",
    "\n",
    "def back(x, dis):\n",
    "    return x - dis\n",
    "\n",
    "def move(location, instruction):\n",
    "    (x, y, direction) = location\n",
    "    (turnDirection, distance) = instruction\n",
    "    \n",
    "    direction = calculateDirection(direction, turnDirection)\n",
    "\n",
    "    if(direction%2):\n",
    "        x = fwd(x, distance) if direction==1 else back(x, distance)\n",
    "    else:\n",
    "        y = fwd(y, distance) if direction==0 else back(y, distance)\n",
    "    \n",
    "    return (x, y, direction)\n",
    "    \n",
    "    \n",
    "def decode(string):\n",
    "    direction = 0 if string[:1]=='L' else 1\n",
    "    distance = int(string[1:])\n",
    "    return (direction, distance)\n",
    "    \n",
    "adventInput = \"R4, R1, L2, R1, L1, L1, R1, L5, R1, R5, L2, R3, L3, L4, R4, R4, R3, L5, L1, R5, R3, L4, R1, R5, L1, R3, L2, R3, R1, L4, L1, R1, L1, L5, R1, L2, R2, L3, L5, R1, R5, L1, R188, L3, R2, R52, R5, L3, R79, L1, R5, R186, R2, R1, L3, L5, L2, R2, R4, R5, R5, L5, L4, R5, R3, L4, R4, L4, L4, R5, L4, L3, L1, L4, R1, R2, L5, R3, L4, R3, L3, L5, R1, R1, L3, R2, R1, R2, R2, L4, R5, R1, R3, R2, L2, L2, L1, R2, L1, L3, R5, R1, R4, R5, R2, R2, R4, R4, R1, L3, R4, L2, R2, R1, R3, L5, R5, R2, R5, L1, R2, R4, L1, R5, L3, L3, R1, L4, R2, L2, R1, L1, R4, R3, L2, L3, R3, L2, R1, L4, R5, L1, R5, L2, L1, L5, L2, L5, L2, L4, L2, R3\"\n",
    "instructions = adventInput.split(\", \")\n",
    "log = []\n",
    "for instruction in instructions:\n",
    "    x,y,d = myLocation\n",
    "    log.append((x,y))\n",
    "    myLocation = move(myLocation, decode(instruction))\n",
    "    \n",
    "x, y, direction = myLocation\n",
    "distance = abs(x) + abs(y)\n",
    "distance"
   ]
  },
  {
   "cell_type": "code",
   "execution_count": null,
   "metadata": {
    "collapsed": true
   },
   "outputs": [],
   "source": []
  }
 ],
 "metadata": {
  "kernelspec": {
   "display_name": "Python 3",
   "language": "python",
   "name": "python3"
  },
  "language_info": {
   "codemirror_mode": {
    "name": "ipython",
    "version": 3
   },
   "file_extension": ".py",
   "mimetype": "text/x-python",
   "name": "python",
   "nbconvert_exporter": "python",
   "pygments_lexer": "ipython3",
   "version": "3.6.0"
  }
 },
 "nbformat": 4,
 "nbformat_minor": 2
}
